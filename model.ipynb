{
 "cells": [
  {
   "cell_type": "markdown",
   "metadata": {},
   "source": [
    "### The notebook follows 5 steps:\n",
    "\n",
    "####  1. Exploratory Data Analysis (EDA)\n",
    "####  2. Data Cleaning and Feature Enginnering\n",
    "####  3. Classification model: metrics and predictions.\n",
    "####  4. Technical Report\n",
    "####  5. Business Value "
   ]
  },
  {
   "cell_type": "code",
   "execution_count": 1,
   "metadata": {},
   "outputs": [
    {
     "name": "stderr",
     "output_type": "stream",
     "text": [
      "Using TensorFlow backend.\n",
      "/Users/vsterra/opt/anaconda3/lib/python3.7/site-packages/tensorflow/python/framework/dtypes.py:526: FutureWarning: Passing (type, 1) or '1type' as a synonym of type is deprecated; in a future version of numpy, it will be understood as (type, (1,)) / '(1,)type'.\n",
      "  _np_qint8 = np.dtype([(\"qint8\", np.int8, 1)])\n",
      "/Users/vsterra/opt/anaconda3/lib/python3.7/site-packages/tensorflow/python/framework/dtypes.py:527: FutureWarning: Passing (type, 1) or '1type' as a synonym of type is deprecated; in a future version of numpy, it will be understood as (type, (1,)) / '(1,)type'.\n",
      "  _np_quint8 = np.dtype([(\"quint8\", np.uint8, 1)])\n",
      "/Users/vsterra/opt/anaconda3/lib/python3.7/site-packages/tensorflow/python/framework/dtypes.py:528: FutureWarning: Passing (type, 1) or '1type' as a synonym of type is deprecated; in a future version of numpy, it will be understood as (type, (1,)) / '(1,)type'.\n",
      "  _np_qint16 = np.dtype([(\"qint16\", np.int16, 1)])\n",
      "/Users/vsterra/opt/anaconda3/lib/python3.7/site-packages/tensorflow/python/framework/dtypes.py:529: FutureWarning: Passing (type, 1) or '1type' as a synonym of type is deprecated; in a future version of numpy, it will be understood as (type, (1,)) / '(1,)type'.\n",
      "  _np_quint16 = np.dtype([(\"quint16\", np.uint16, 1)])\n",
      "/Users/vsterra/opt/anaconda3/lib/python3.7/site-packages/tensorflow/python/framework/dtypes.py:530: FutureWarning: Passing (type, 1) or '1type' as a synonym of type is deprecated; in a future version of numpy, it will be understood as (type, (1,)) / '(1,)type'.\n",
      "  _np_qint32 = np.dtype([(\"qint32\", np.int32, 1)])\n",
      "/Users/vsterra/opt/anaconda3/lib/python3.7/site-packages/tensorflow/python/framework/dtypes.py:535: FutureWarning: Passing (type, 1) or '1type' as a synonym of type is deprecated; in a future version of numpy, it will be understood as (type, (1,)) / '(1,)type'.\n",
      "  np_resource = np.dtype([(\"resource\", np.ubyte, 1)])\n"
     ]
    }
   ],
   "source": [
    "import pandas as pd\n",
    "import numpy as np\n",
    "import matplotlib.pyplot as plt\n",
    "import seaborn as sns\n",
    "\n",
    "from sklearn.ensemble import RandomForestClassifier\n",
    "from sklearn.tree import DecisionTreeClassifier\n",
    "from sklearn.datasets import make_classification\n",
    "from sklearn.model_selection import train_test_split\n",
    "from sklearn.metrics import classification_report\n",
    "from sklearn import metrics\n",
    "from sklearn.model_selection import RandomizedSearchCV\n",
    "from imblearn.over_sampling import SMOTE \n",
    "from collections import Counter\n",
    "from sklearn.datasets import make_classification"
   ]
  },
  {
   "cell_type": "code",
   "execution_count": 2,
   "metadata": {},
   "outputs": [
    {
     "name": "stderr",
     "output_type": "stream",
     "text": [
      "/Users/vsterra/opt/anaconda3/lib/python3.7/site-packages/IPython/core/interactiveshell.py:3058: DtypeWarning: Columns (10,11) have mixed types. Specify dtype option on import or set low_memory=False.\n",
      "  interactivity=interactivity, compiler=compiler, result=result)\n"
     ]
    }
   ],
   "source": [
    "df_train = pd.read_csv('pds_train.csv',sep=';')\n",
    "df_test = pd.read_csv('pds_test.csv',sep=';')"
   ]
  },
  {
   "cell_type": "markdown",
   "metadata": {},
   "source": [
    "### 1. Exploratory Data Analysis (EDA)"
   ]
  },
  {
   "cell_type": "code",
   "execution_count": 3,
   "metadata": {},
   "outputs": [
    {
     "data": {
      "text/html": [
       "<div>\n",
       "<style scoped>\n",
       "    .dataframe tbody tr th:only-of-type {\n",
       "        vertical-align: middle;\n",
       "    }\n",
       "\n",
       "    .dataframe tbody tr th {\n",
       "        vertical-align: top;\n",
       "    }\n",
       "\n",
       "    .dataframe thead th {\n",
       "        text-align: right;\n",
       "    }\n",
       "</style>\n",
       "<table border=\"1\" class=\"dataframe\">\n",
       "  <thead>\n",
       "    <tr style=\"text-align: right;\">\n",
       "      <th></th>\n",
       "      <th>vl_total_tancagem</th>\n",
       "      <th>vl_total_veiculos_antt</th>\n",
       "      <th>vl_total_veiculos_leves</th>\n",
       "      <th>vl_total_veiculos_pesados</th>\n",
       "      <th>vl_total_veiculos_pesados_grupo</th>\n",
       "      <th>vl_total_veiculos_leves_grupo</th>\n",
       "      <th>vl_total_tancagem_grupo</th>\n",
       "      <th>vl_total_veiculos_antt_grupo</th>\n",
       "      <th>vl_potenc_cons_oleo_gas</th>\n",
       "      <th>vl_potenc_cons_oleo_gas_grupo</th>\n",
       "      <th>...</th>\n",
       "      <th>vl_potenc_cons_diesel</th>\n",
       "      <th>vl_potenc_cons_etanol</th>\n",
       "      <th>vl_potenc_cons_gasolina</th>\n",
       "      <th>vl_potenc_cons_diesel_grupo</th>\n",
       "      <th>vl_potenc_cons_etanol_grupo</th>\n",
       "      <th>vl_potenc_cons_gasolina_grupo</th>\n",
       "      <th>vl_frota</th>\n",
       "      <th>vl_total_veiculos</th>\n",
       "      <th>vl_total_veiculos_grupo</th>\n",
       "      <th>ind_atividade</th>\n",
       "    </tr>\n",
       "  </thead>\n",
       "  <tbody>\n",
       "    <tr>\n",
       "      <th>count</th>\n",
       "      <td>332.000000</td>\n",
       "      <td>232.000000</td>\n",
       "      <td>32357.000000</td>\n",
       "      <td>32357.000000</td>\n",
       "      <td>231510.000000</td>\n",
       "      <td>231510.000000</td>\n",
       "      <td>1989.000000</td>\n",
       "      <td>437.000000</td>\n",
       "      <td>3950.000000</td>\n",
       "      <td>6617.000000</td>\n",
       "      <td>...</td>\n",
       "      <td>325.000000</td>\n",
       "      <td>15.000000</td>\n",
       "      <td>16.000000</td>\n",
       "      <td>231510.000000</td>\n",
       "      <td>123.000000</td>\n",
       "      <td>231510.000000</td>\n",
       "      <td>2.272100e+04</td>\n",
       "      <td>32357.000000</td>\n",
       "      <td>231510.000000</td>\n",
       "      <td>231510.000000</td>\n",
       "    </tr>\n",
       "    <tr>\n",
       "      <th>mean</th>\n",
       "      <td>30.810241</td>\n",
       "      <td>3.116379</td>\n",
       "      <td>2.779862</td>\n",
       "      <td>1.385666</td>\n",
       "      <td>8.113356</td>\n",
       "      <td>108.521757</td>\n",
       "      <td>184.420814</td>\n",
       "      <td>13.105263</td>\n",
       "      <td>18.847291</td>\n",
       "      <td>250.956267</td>\n",
       "      <td>...</td>\n",
       "      <td>86.996308</td>\n",
       "      <td>49.333333</td>\n",
       "      <td>47.312500</td>\n",
       "      <td>4.489764</td>\n",
       "      <td>125.273171</td>\n",
       "      <td>0.104741</td>\n",
       "      <td>1.793961e+05</td>\n",
       "      <td>4.961678</td>\n",
       "      <td>135.438029</td>\n",
       "      <td>0.772273</td>\n",
       "    </tr>\n",
       "    <tr>\n",
       "      <th>std</th>\n",
       "      <td>50.449432</td>\n",
       "      <td>4.286220</td>\n",
       "      <td>53.115875</td>\n",
       "      <td>12.642143</td>\n",
       "      <td>122.847699</td>\n",
       "      <td>1884.461334</td>\n",
       "      <td>781.750720</td>\n",
       "      <td>21.311536</td>\n",
       "      <td>74.943006</td>\n",
       "      <td>1584.155878</td>\n",
       "      <td>...</td>\n",
       "      <td>136.827098</td>\n",
       "      <td>41.656189</td>\n",
       "      <td>38.218178</td>\n",
       "      <td>216.638891</td>\n",
       "      <td>211.210768</td>\n",
       "      <td>3.888512</td>\n",
       "      <td>1.729443e+06</td>\n",
       "      <td>82.254347</td>\n",
       "      <td>2578.555728</td>\n",
       "      <td>0.419366</td>\n",
       "    </tr>\n",
       "    <tr>\n",
       "      <th>min</th>\n",
       "      <td>0.000000</td>\n",
       "      <td>0.000000</td>\n",
       "      <td>0.000000</td>\n",
       "      <td>0.000000</td>\n",
       "      <td>0.000000</td>\n",
       "      <td>0.000000</td>\n",
       "      <td>0.000000</td>\n",
       "      <td>0.000000</td>\n",
       "      <td>0.000000</td>\n",
       "      <td>0.000000</td>\n",
       "      <td>...</td>\n",
       "      <td>0.000000</td>\n",
       "      <td>20.000000</td>\n",
       "      <td>15.000000</td>\n",
       "      <td>0.000000</td>\n",
       "      <td>6.000000</td>\n",
       "      <td>0.000000</td>\n",
       "      <td>5.610000e+02</td>\n",
       "      <td>1.000000</td>\n",
       "      <td>0.000000</td>\n",
       "      <td>0.000000</td>\n",
       "    </tr>\n",
       "    <tr>\n",
       "      <th>25%</th>\n",
       "      <td>15.000000</td>\n",
       "      <td>1.000000</td>\n",
       "      <td>1.000000</td>\n",
       "      <td>0.000000</td>\n",
       "      <td>0.000000</td>\n",
       "      <td>0.000000</td>\n",
       "      <td>15.000000</td>\n",
       "      <td>2.000000</td>\n",
       "      <td>2.000000</td>\n",
       "      <td>3.000000</td>\n",
       "      <td>...</td>\n",
       "      <td>45.000000</td>\n",
       "      <td>30.000000</td>\n",
       "      <td>26.000000</td>\n",
       "      <td>0.000000</td>\n",
       "      <td>30.000000</td>\n",
       "      <td>0.000000</td>\n",
       "      <td>2.283800e+04</td>\n",
       "      <td>1.000000</td>\n",
       "      <td>0.000000</td>\n",
       "      <td>1.000000</td>\n",
       "    </tr>\n",
       "    <tr>\n",
       "      <th>50%</th>\n",
       "      <td>15.000000</td>\n",
       "      <td>2.000000</td>\n",
       "      <td>1.000000</td>\n",
       "      <td>0.000000</td>\n",
       "      <td>0.000000</td>\n",
       "      <td>0.000000</td>\n",
       "      <td>30.000000</td>\n",
       "      <td>3.000000</td>\n",
       "      <td>4.000000</td>\n",
       "      <td>10.000000</td>\n",
       "      <td>...</td>\n",
       "      <td>45.000000</td>\n",
       "      <td>30.000000</td>\n",
       "      <td>35.000000</td>\n",
       "      <td>0.000000</td>\n",
       "      <td>60.000000</td>\n",
       "      <td>0.000000</td>\n",
       "      <td>4.544400e+04</td>\n",
       "      <td>2.000000</td>\n",
       "      <td>0.000000</td>\n",
       "      <td>1.000000</td>\n",
       "    </tr>\n",
       "    <tr>\n",
       "      <th>75%</th>\n",
       "      <td>30.000000</td>\n",
       "      <td>4.000000</td>\n",
       "      <td>2.000000</td>\n",
       "      <td>1.000000</td>\n",
       "      <td>0.000000</td>\n",
       "      <td>0.000000</td>\n",
       "      <td>95.000000</td>\n",
       "      <td>13.000000</td>\n",
       "      <td>10.000000</td>\n",
       "      <td>45.000000</td>\n",
       "      <td>...</td>\n",
       "      <td>78.000000</td>\n",
       "      <td>50.000000</td>\n",
       "      <td>55.500000</td>\n",
       "      <td>0.000000</td>\n",
       "      <td>95.000000</td>\n",
       "      <td>0.000000</td>\n",
       "      <td>1.005140e+05</td>\n",
       "      <td>3.000000</td>\n",
       "      <td>0.000000</td>\n",
       "      <td>1.000000</td>\n",
       "    </tr>\n",
       "    <tr>\n",
       "      <th>max</th>\n",
       "      <td>600.000000</td>\n",
       "      <td>38.000000</td>\n",
       "      <td>8903.000000</td>\n",
       "      <td>876.000000</td>\n",
       "      <td>10372.000000</td>\n",
       "      <td>122090.000000</td>\n",
       "      <td>11922.000000</td>\n",
       "      <td>108.000000</td>\n",
       "      <td>1752.000000</td>\n",
       "      <td>35516.780000</td>\n",
       "      <td>...</td>\n",
       "      <td>1620.000000</td>\n",
       "      <td>170.000000</td>\n",
       "      <td>170.000000</td>\n",
       "      <td>35016.780000</td>\n",
       "      <td>930.000000</td>\n",
       "      <td>500.000000</td>\n",
       "      <td>1.580134e+08</td>\n",
       "      <td>13714.000000</td>\n",
       "      <td>154267.000000</td>\n",
       "      <td>1.000000</td>\n",
       "    </tr>\n",
       "  </tbody>\n",
       "</table>\n",
       "<p>8 rows × 26 columns</p>\n",
       "</div>"
      ],
      "text/plain": [
       "       vl_total_tancagem  vl_total_veiculos_antt  vl_total_veiculos_leves  \\\n",
       "count         332.000000              232.000000             32357.000000   \n",
       "mean           30.810241                3.116379                 2.779862   \n",
       "std            50.449432                4.286220                53.115875   \n",
       "min             0.000000                0.000000                 0.000000   \n",
       "25%            15.000000                1.000000                 1.000000   \n",
       "50%            15.000000                2.000000                 1.000000   \n",
       "75%            30.000000                4.000000                 2.000000   \n",
       "max           600.000000               38.000000              8903.000000   \n",
       "\n",
       "       vl_total_veiculos_pesados  vl_total_veiculos_pesados_grupo  \\\n",
       "count               32357.000000                    231510.000000   \n",
       "mean                    1.385666                         8.113356   \n",
       "std                    12.642143                       122.847699   \n",
       "min                     0.000000                         0.000000   \n",
       "25%                     0.000000                         0.000000   \n",
       "50%                     0.000000                         0.000000   \n",
       "75%                     1.000000                         0.000000   \n",
       "max                   876.000000                     10372.000000   \n",
       "\n",
       "       vl_total_veiculos_leves_grupo  vl_total_tancagem_grupo  \\\n",
       "count                  231510.000000              1989.000000   \n",
       "mean                      108.521757               184.420814   \n",
       "std                      1884.461334               781.750720   \n",
       "min                         0.000000                 0.000000   \n",
       "25%                         0.000000                15.000000   \n",
       "50%                         0.000000                30.000000   \n",
       "75%                         0.000000                95.000000   \n",
       "max                    122090.000000             11922.000000   \n",
       "\n",
       "       vl_total_veiculos_antt_grupo  vl_potenc_cons_oleo_gas  \\\n",
       "count                    437.000000              3950.000000   \n",
       "mean                      13.105263                18.847291   \n",
       "std                       21.311536                74.943006   \n",
       "min                        0.000000                 0.000000   \n",
       "25%                        2.000000                 2.000000   \n",
       "50%                        3.000000                 4.000000   \n",
       "75%                       13.000000                10.000000   \n",
       "max                      108.000000              1752.000000   \n",
       "\n",
       "       vl_potenc_cons_oleo_gas_grupo  ...  vl_potenc_cons_diesel  \\\n",
       "count                    6617.000000  ...             325.000000   \n",
       "mean                      250.956267  ...              86.996308   \n",
       "std                      1584.155878  ...             136.827098   \n",
       "min                         0.000000  ...               0.000000   \n",
       "25%                         3.000000  ...              45.000000   \n",
       "50%                        10.000000  ...              45.000000   \n",
       "75%                        45.000000  ...              78.000000   \n",
       "max                     35516.780000  ...            1620.000000   \n",
       "\n",
       "       vl_potenc_cons_etanol  vl_potenc_cons_gasolina  \\\n",
       "count              15.000000                16.000000   \n",
       "mean               49.333333                47.312500   \n",
       "std                41.656189                38.218178   \n",
       "min                20.000000                15.000000   \n",
       "25%                30.000000                26.000000   \n",
       "50%                30.000000                35.000000   \n",
       "75%                50.000000                55.500000   \n",
       "max               170.000000               170.000000   \n",
       "\n",
       "       vl_potenc_cons_diesel_grupo  vl_potenc_cons_etanol_grupo  \\\n",
       "count                231510.000000                   123.000000   \n",
       "mean                      4.489764                   125.273171   \n",
       "std                     216.638891                   211.210768   \n",
       "min                       0.000000                     6.000000   \n",
       "25%                       0.000000                    30.000000   \n",
       "50%                       0.000000                    60.000000   \n",
       "75%                       0.000000                    95.000000   \n",
       "max                   35016.780000                   930.000000   \n",
       "\n",
       "       vl_potenc_cons_gasolina_grupo      vl_frota  vl_total_veiculos  \\\n",
       "count                  231510.000000  2.272100e+04       32357.000000   \n",
       "mean                        0.104741  1.793961e+05           4.961678   \n",
       "std                         3.888512  1.729443e+06          82.254347   \n",
       "min                         0.000000  5.610000e+02           1.000000   \n",
       "25%                         0.000000  2.283800e+04           1.000000   \n",
       "50%                         0.000000  4.544400e+04           2.000000   \n",
       "75%                         0.000000  1.005140e+05           3.000000   \n",
       "max                       500.000000  1.580134e+08       13714.000000   \n",
       "\n",
       "       vl_total_veiculos_grupo  ind_atividade  \n",
       "count            231510.000000  231510.000000  \n",
       "mean                135.438029       0.772273  \n",
       "std                2578.555728       0.419366  \n",
       "min                   0.000000       0.000000  \n",
       "25%                   0.000000       1.000000  \n",
       "50%                   0.000000       1.000000  \n",
       "75%                   0.000000       1.000000  \n",
       "max              154267.000000       1.000000  \n",
       "\n",
       "[8 rows x 26 columns]"
      ]
     },
     "execution_count": 3,
     "metadata": {},
     "output_type": "execute_result"
    }
   ],
   "source": [
    "df_train[df_train.filter(regex='vl_', axis=1).columns.tolist()+['ind_atividade']].describe()"
   ]
  },
  {
   "cell_type": "code",
   "execution_count": 4,
   "metadata": {},
   "outputs": [
    {
     "name": "stderr",
     "output_type": "stream",
     "text": [
      "No handles with labels found to put in legend.\n"
     ]
    },
    {
     "data": {
      "image/png": "[encoded data removed]",
      "text/plain": [
       "<Figure size 432x288 with 1 Axes>"
      ]
     },
     "metadata": {
      "needs_background": "light"
     },
     "output_type": "display_data"
    }
   ],
   "source": [
    "plt.figure()\n",
    "\n",
    "aux = df_train.ind_atividade.value_counts()/len(df_train)\n",
    "sns.barplot(x=aux.index, y = aux.values)\n",
    "\n",
    "plt.title('Active Companies Distribution')\n",
    "plt.xlabel('ind_atividade')\n",
    "plt.ylabel('% on dataset')\n",
    "plt.legend(loc='best')\n",
    "plt.show()"
   ]
  },
  {
   "cell_type": "markdown",
   "metadata": {},
   "source": [
    "### 2. Feature Enginnering"
   ]
  },
  {
   "cell_type": "markdown",
   "metadata": {},
   "source": [
    "### 2.1. Data Preparation Function"
   ]
  },
  {
   "cell_type": "code",
   "execution_count": 5,
   "metadata": {},
   "outputs": [],
   "source": [
    "def data_prep(pandas_df):\n",
    "    #Convert bool to integer\n",
    "    for i in pandas_df.select_dtypes(include='bool').columns:\n",
    "        pandas_df[i] = pandas_df[i]*1\n",
    "    \n",
    "    #Convert date columns to datetime\n",
    "    for col in pandas_df.columns:\n",
    "        if pandas_df[col].dtype == 'object':\n",
    "            try:\n",
    "                pandas_df[col] = pd.to_datetime(pandas_df[col])\n",
    "            except ValueError:\n",
    "                pass\n",
    "    \n",
    "    #Data Cleaning on specific date columns\n",
    "    for i in ['de_validade_pgfn','de_validade_fgts','de_optante_simples']:\n",
    "        pandas_df[i] = pd.to_datetime(pandas_df[i].apply(lambda x: str(x)[:10]), errors='coerce')\n",
    "        \n",
    "    #Fill nulls\n",
    "    for i in pandas_df.select_dtypes(include=['number']).columns:\n",
    "        pandas_df[i] = pandas_df[i].fillna(-99999999)\n",
    "        \n",
    "    #Select Only numeric columns\n",
    "    pandas_df = pandas_df.select_dtypes(include=['number'])\n",
    "    \n",
    "    #Drop some identification columns\n",
    "    for i in ['id']:\n",
    "        pandas_df = pandas_df.drop(i, axis=1)\n",
    "    \n",
    "    return pandas_df"
   ]
  },
  {
   "cell_type": "markdown",
   "metadata": {},
   "source": [
    "### 2.2. Train Test Split"
   ]
  },
  {
   "cell_type": "code",
   "execution_count": 6,
   "metadata": {},
   "outputs": [],
   "source": [
    "def split(pandas_df):\n",
    "    \n",
    "    #Train Test Split\n",
    "    X, y = pandas_df.drop('ind_atividade',axis=1), pandas_df['ind_atividade']\n",
    "   \n",
    "    X_train, X_test, y_train, y_test = train_test_split(\n",
    "    X, y, test_size=0.33, random_state=42)\n",
    "    \n",
    "    #Compile Train-Test DataFrames\n",
    "    df_samp_train, df_samp_test = X_train, X_test\n",
    "    df_samp_train['ind_atividade'], df_samp_test['ind_atividade'] = y_train, y_test\n",
    "\n",
    "    #Undersampling on train data\n",
    "    df_samp0 = df_samp_train[df_samp_train.ind_atividade == 0]\n",
    "    df_samp1 = df_samp_train[df_samp_train.ind_atividade == 1].sample(n=len(df_samp0))\n",
    "    df_samp_train = df_samp0.append(df_samp1)\n",
    "    \n",
    "    #Select X,y for train and test \n",
    "    X_train, y_train = df_samp_train.drop('ind_atividade',axis=1), df_samp_train['ind_atividade']\n",
    "    X_test, y_test = df_samp_test.drop('ind_atividade',axis=1), df_samp_test['ind_atividade']\n",
    "\n",
    "    return X_train, X_test, y_train, y_test"
   ]
  },
  {
   "cell_type": "markdown",
   "metadata": {},
   "source": [
    "## 3. Machine Learning Model\n",
    "\n",
    "### 3.1 Random Forest Classifier function (metrics on train and test data)"
   ]
  },
  {
   "cell_type": "code",
   "execution_count": 7,
   "metadata": {},
   "outputs": [],
   "source": [
    "def rf_model(data_model):\n",
    "    \n",
    "    #Define train and test data\n",
    "    X_train, X_test, y_train, y_test = data_model\n",
    "    \n",
    "    #Random Forest Classifier\n",
    "    clf = RandomForestClassifier(max_depth=5, min_samples_leaf = 100)\n",
    "    clf.fit(X_train, y_train)\n",
    "    \n",
    "    #Make Prediction on train and test data\n",
    "    y_test_pred = clf.predict(X_test)\n",
    "    y_train_pred = clf.predict(X_train)\n",
    "    \n",
    "    ### METRICS ###\n",
    "    print('train report:', classification_report(y_train, y_train_pred))\n",
    "    print('test report:', classification_report(y_test, y_test_pred))\n",
    "    \n",
    "    fpr, tpr, thresholds = metrics.roc_curve(y_train, y_train_pred)\n",
    "    print('auc train:',metrics.auc(fpr, tpr))\n",
    "    \n",
    "    fpr, tpr, thresholds = metrics.roc_curve(y_test, y_test_pred)\n",
    "    print('auc test:',metrics.auc(fpr, tpr))\n",
    "    \n",
    "    #Feature Importance\n",
    "    feat_imp = pd.DataFrame(np.c_[clf.feature_importances_, X_train.columns],\n",
    "             columns = ['importance', 'feature']).sort_values(by = 'importance', ascending = False).reset_index(drop = True)[:10]\n",
    "    \n",
    "    plt.figure(figsize=(12,8))\n",
    "    sns.barplot(x=feat_imp.feature, y = feat_imp.importance)\n",
    "    plt.xticks(rotation=75, fontsize=12)\n",
    "    plt.yticks(fontsize=12)\n",
    "    \n",
    "    plt.show()\n",
    "    \n",
    "    return clf\n",
    "    "
   ]
  },
  {
   "cell_type": "markdown",
   "metadata": {},
   "source": [
    "### 3.2 Applying functions"
   ]
  },
  {
   "cell_type": "markdown",
   "metadata": {},
   "source": [
    "### Data Preparation"
   ]
  },
  {
   "cell_type": "code",
   "execution_count": 8,
   "metadata": {},
   "outputs": [],
   "source": [
    "df = data_prep(df_train)"
   ]
  },
  {
   "cell_type": "markdown",
   "metadata": {},
   "source": [
    "###  Train Test Split (with Undersampling on train data)"
   ]
  },
  {
   "cell_type": "code",
   "execution_count": 9,
   "metadata": {},
   "outputs": [
    {
     "name": "stderr",
     "output_type": "stream",
     "text": [
      "/Users/vsterra/opt/anaconda3/lib/python3.7/site-packages/ipykernel_launcher.py:11: SettingWithCopyWarning: \n",
      "A value is trying to be set on a copy of a slice from a DataFrame.\n",
      "Try using .loc[row_indexer,col_indexer] = value instead\n",
      "\n",
      "See the caveats in the documentation: http://pandas.pydata.org/pandas-docs/stable/indexing.html#indexing-view-versus-copy\n",
      "  # This is added back by InteractiveShellApp.init_path()\n"
     ]
    },
    {
     "name": "stdout",
     "output_type": "stream",
     "text": [
      "train report:               precision    recall  f1-score   support\n",
      "\n",
      "           0       0.63      0.64      0.64     35383\n",
      "           1       0.64      0.63      0.63     35383\n",
      "\n",
      "    accuracy                           0.63     70766\n",
      "   macro avg       0.63      0.63      0.63     70766\n",
      "weighted avg       0.63      0.63      0.63     70766\n",
      "\n",
      "test report:               precision    recall  f1-score   support\n",
      "\n",
      "           0       0.34      0.64      0.44     17338\n",
      "           1       0.86      0.63      0.73     59061\n",
      "\n",
      "    accuracy                           0.63     76399\n",
      "   macro avg       0.60      0.64      0.59     76399\n",
      "weighted avg       0.74      0.63      0.66     76399\n",
      "\n",
      "auc train: 0.6346550603397112\n",
      "auc test: 0.6365141476058636\n"
     ]
    },
    {
     "data": {
      "image/png": "[encoded data removed]",
      "text/plain": [
       "<Figure size 864x576 with 1 Axes>"
      ]
     },
     "metadata": {
      "needs_background": "light"
     },
     "output_type": "display_data"
    }
   ],
   "source": [
    "clf = rf_model(split(df))"
   ]
  },
  {
   "cell_type": "markdown",
   "metadata": {},
   "source": [
    "### 3.3 Prediction on test data"
   ]
  },
  {
   "cell_type": "code",
   "execution_count": 10,
   "metadata": {},
   "outputs": [],
   "source": [
    "#Data Prep\n",
    "df_predict = data_prep(df_test)\n",
    "\n",
    "#Prediction and probability on test data\n",
    "aux_pred, aux_proba = clf.predict(df_predict), clf.predict_proba(df_predict)[:,1]\n",
    "df_predict['ind_atividade_pred'] = aux_pred\n",
    "df_predict['ind_atividade_pred_proba'] = aux_proba\n",
    "\n",
    "#Input 'id' on test output\n",
    "df_predict['id'] = df_test.id"
   ]
  },
  {
   "cell_type": "code",
   "execution_count": 11,
   "metadata": {},
   "outputs": [
    {
     "data": {
      "text/plain": [
       "1    0.568299\n",
       "0    0.431701\n",
       "Name: ind_atividade_pred, dtype: float64"
      ]
     },
     "execution_count": 11,
     "metadata": {},
     "output_type": "execute_result"
    }
   ],
   "source": [
    "#Distribution on predictions\n",
    "pd.Series(df_predict['ind_atividade_pred']).value_counts()/len(df_predict)"
   ]
  },
  {
   "cell_type": "code",
   "execution_count": 12,
   "metadata": {},
   "outputs": [],
   "source": [
    "#Output\n",
    "df_predict[['id','ind_atividade_pred', 'ind_atividade_pred_proba']].to_csv('output/test_predictions.csv',index=False)"
   ]
  },
  {
   "cell_type": "markdown",
   "metadata": {},
   "source": [
    "### 4. Technical Report"
   ]
  },
  {
   "cell_type": "markdown",
   "metadata": {},
   "source": [
    "In this report I will comment on each of the first 3 topics:\n",
    "\n",
    "1. Exploratory Data Analysis (EDA)\n",
    "\n",
    "In the data exploration part, I performed a brief analysis of the statistical descriptions, that is, how the averages and quartiles are distributed for variables of the float type in the training base. I also wanted to visualize the distribution of active companies or not, this information is important to judge how good the Machine Learning model is better than a prediction of a random model.\n",
    "\n",
    "2. Data Cleaning and Feature Enginnering\n",
    "\n",
    "In this topic I created a function that prepares both training and test bases. In this function I synthesized each step taken, how to convert Boolean variables to integers, formatting dates. The filling of null lines was very rudimentary and in a long project it can be worked with more powerful filling techniques.\n",
    "\n",
    "One of the versions of this modular function includes the one-hot encoder technique. However, in the 'object' columns we have different variations between the training and test basis, which makes it impossible to predict fluidly between the different training and test bases. Anyway, the inclusion of these techniques did not bring great improvements in the final metrics of the Machine Learning model.\n",
    "\n",
    "One of the modular functions in this topic includes the creation of training and test bases for the model. In this role I perform the undersampling technique, which brought the best performance to the model, as I will discuss below.\n",
    "\n",
    "It is worth mentioning that the oversampling technique had a similar performance. However, it is more computationally expensive.\n",
    "\n",
    "3. Machine Learning model\n",
    "\n",
    "I created another modular function in which to perform the training of the model, its performance metrics and features importance. The chosen model was the random forest, as it is a simple installation classification model. Other models more powerful and that do not require treatments with nulls, like XGBoost could work very well. However, its installation is more complex.\n",
    "\n",
    "With the use of the undersampling technique in conjunction with the Random Forest Classifier, on the test basis the model to detect whether a company is active has 86% accuracy and 64% recall, that is, 73% f-1 score. At the same time, the AUC is 64%, which is better than a random model.\n",
    "\n",
    "The model prediction on the test base can be viewed in the output folder."
   ]
  },
  {
   "cell_type": "markdown",
   "metadata": {},
   "source": [
    "### 5. Business Value"
   ]
  },
  {
   "cell_type": "markdown",
   "metadata": {},
   "source": [
    "With the use of the model, we were able to reach with greater assertiveness the base of companies to prospect a sale. The model has 86% accuracy to detect if a company is active. The model is scalable and can be easily applied to any company that has much of the information as well as the base that was delivered.\n",
    "\n",
    "The use of the model will bring savings to the company, since it is able to forecast accurately and in advance without the need for a more immersive analysis and with allocation of resources in order to determine whether the company is active or not.\n",
    "\n",
    "With greater knowledge of the data, we can even create models to identify company profiles whose prospecting can bring greater final value. Among other ideas that can be developed through insights obtained from the interaction with the data team and the business."
   ]
  },
  {
   "cell_type": "code",
   "execution_count": null,
   "metadata": {},
   "outputs": [],
   "source": []
  }
 ],
 "metadata": {
  "kernelspec": {
   "display_name": "Python 3",
   "language": "python",
   "name": "python3"
  },
  "language_info": {
   "codemirror_mode": {
    "name": "ipython",
    "version": 3
   },
   "file_extension": ".py",
   "mimetype": "text/x-python",
   "name": "python",
   "nbconvert_exporter": "python",
   "pygments_lexer": "ipython3",
   "version": "3.7.4"
  }
 },
 "nbformat": 4,
 "nbformat_minor": 2
}
